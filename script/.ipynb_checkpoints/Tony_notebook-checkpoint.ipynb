{
 "cells": [
  {
   "cell_type": "code",
   "execution_count": 3,
   "metadata": {
    "collapsed": true
   },
   "outputs": [],
   "source": [
    "import pandas as pd\n",
    "import numpy as np\n",
    "import os\n",
    "from tqdm import tqdm\n",
    "from xgboost import XGBClassifier\n",
    "import matplotlib as mpl\n",
    "import matplotlib.pyplot as plt\n",
    "import matplotlib.gridspec as gridspec\n",
    "import matplotlib.patches as mpatches\n",
    "from sklearn import metrics\n",
    "import matplotlib.backends.backend_pdf\n",
    "%matplotlib inline"
   ]
  },
  {
   "cell_type": "code",
   "execution_count": 23,
   "metadata": {
    "collapsed": true
   },
   "outputs": [],
   "source": [
    "def get_data(data_dir):\n",
    "    fs = [data_dir + f for f in os.listdir(data_dir) if ('signal' in f or 'WZ' in f) and f[0] != '.']\n",
    "    df = pd.DataFrame()\n",
    "\n",
    "    for f in fs:\n",
    "        print f\n",
    "        new_df = pd.read_csv(f)\n",
    "        df = pd.concat([df, new_df], ignore_index = True)\n",
    "        df.index = range(len(df))\n",
    "\n",
    "    return df\n",
    "\n",
    "def add_cl_ix(df):\n",
    "    df['is_sig'] = [1 if 'signal' in val else 0 for val in df.cl.values]\n",
    "    return df\n",
    "\n",
    "def train(df, x_cols):\n",
    "    y_col = 'is_sig'\n",
    "    model = XGBClassifier(nthread=-1, gamma=0.001, learning_rate=0.1)\n",
    "\n",
    "    print 'training...'\n",
    "    model.fit(df[x_cols].values, df[y_col].values)\n",
    "    #model.fit(df[x_cols].values, df[y_col].values, sample_weight = df.weight.values)\n",
    "    df['preds'] = model.predict_proba(df[x_cols].values)[:,1]\n",
    "    print 'done training'\n",
    "\n",
    "    return df, model"
   ]
  },
  {
   "cell_type": "code",
   "execution_count": 5,
   "metadata": {
    "collapsed": false
   },
   "outputs": [
    {
     "name": "stdout",
     "output_type": "stream",
     "text": [
      "../data/bkg_WZqqll.csv\n",
      "../data/signal_WmWpWm.csv\n",
      "../data/bkg_WZlvll.csv\n",
      "../data/signal_WpWpWm.csv\n"
     ]
    }
   ],
   "source": [
    "data_dir = '../data/' # Modify this\n",
    "df = get_data(data_dir)\n",
    "df = add_cl_ix(df)"
   ]
  },
  {
   "cell_type": "code",
   "execution_count": 15,
   "metadata": {
    "collapsed": false
   },
   "outputs": [
    {
     "name": "stdout",
     "output_type": "stream",
     "text": [
      "['l0_pt', 'l1_pt', 'l2_pt', 'l0_l1_m', 'l0_l1_pt', 'l0_l1_eta', 'l0_l1_phi', 'l1_l2_m', 'l1_l2_pt', 'l1_l2_eta', 'l1_l2_phi', 'l2_l0_m', 'l2_l0_pt', 'l2_l0_eta', 'l2_l0_phi', 'm_3l', 'pt_3l', 'eta_3l', 'phi_3l', 'mt_3l', 'mnew_3l', 'met_pt', 'met_phi']\n"
     ]
    }
   ],
   "source": [
    "df = df[df.SFOS == 1]\n",
    "# x_cols = [col for col in df.columns if not col in \n",
    "#           ['runNumber', 'lbNumber', 'eventNumber', 'SFOS', 'is_sig', 'weight', 'cl', 'preds', \n",
    "#            \"Njet\",\n",
    "# \"Nbjet\",\n",
    "# \"Nel\",\n",
    "# \"Nmu\",\n",
    "# \"j0_m\",\n",
    "# \"j0_pt\",\n",
    "# \"j0_eta\",\n",
    "# \"j0_phi\",\n",
    "# \"l0_m\",\n",
    "# \"l0_c\",\n",
    "# \"l0_eta\",\n",
    "# \"l0_phi\",\n",
    "# \"l0_isEl\",\n",
    "# \"l1_m\",\n",
    "# \"l1_eta\",\n",
    "# \"l1_phi\",\n",
    "# \"l1_c\",\n",
    "# \"l1_isEl\",\n",
    "# \"l2_m\",\n",
    "# \"l2_eta\",\n",
    "# \"12_phi\",\n",
    "# \"l2_c\",\n",
    "# \"l2_isEl\",\n",
    "# \"l0_l1_c\",\n",
    "# \"l0_l1_isEl\",\n",
    "# \"l1_l2_c\",\n",
    "# \"l1_l2_isEl\",\n",
    "# \"l2_l0_c\",\n",
    "# \"l2_l0_isEl\",\n",
    "#           ]]\n",
    "# x_cols = ['l0_pt', 'l1_pt', 'l2_pt', 'l0_l1_m', 'l0_l1_pt', \n",
    "#           'l0_l1_eta', 'l0_l1_phi', 'l1_l2_m', 'l1_l2_pt', 'l1_l2_eta', \n",
    "#           'l1_l2_phi', 'l2_l0_m', 'l2_l0_pt', 'l2_l0_eta', 'l2_l0_phi', \n",
    "#           'm_3l', 'pt_3l', 'eta_3l', 'phi_3l', 'mt_3l', 'mnew_3l', 'met_pt', 'met_phi']\n",
    "print(x_cols)"
   ]
  },
  {
   "cell_type": "code",
   "execution_count": 24,
   "metadata": {
    "collapsed": false
   },
   "outputs": [
    {
     "name": "stdout",
     "output_type": "stream",
     "text": [
      "training...\n",
      "done training\n"
     ]
    }
   ],
   "source": [
    "df,model = train(df, x_cols)"
   ]
  },
  {
   "cell_type": "code",
   "execution_count": 25,
   "metadata": {
    "collapsed": false
   },
   "outputs": [
    {
     "name": "stdout",
     "output_type": "stream",
     "text": [
      "Done!\n"
     ]
    }
   ],
   "source": [
    "x_bins = np.linspace(0, max(df.preds), 30)\n",
    "fig = plt.figure(figsize=(10,6))\n",
    "gs = gridspec.GridSpec(3, 1)\n",
    "ax = plt.subplot(gs[0,:])\n",
    "plt.title('XGBClassifier Separability')\n",
    "n_bkg,bins,paint = plt.hist(df[df.is_sig == 0].preds, bins=x_bins, weights=df[df.is_sig == 0].weight, color='r')\n",
    "plt.yscale('log')\n",
    "plt.ylabel(r'Weighted Background Counts', size=9)\n",
    "plt.legend(handles=[mpatches.Patch(color='red', label='Background')])\n",
    "ax1 = plt.subplot(gs[1,:])\n",
    "n_sig,bins,paint = plt.hist(df[df.is_sig == 1].preds, bins=x_bins, weights=df[df.is_sig == 1].weight, color='g')\n",
    "plt.yscale('log')\n",
    "plt.ylabel(r'Weighted Signal Counts', size=9)\n",
    "plt.legend(handles=[mpatches.Patch(color='green', label='Signal')])\n",
    "ax2 = plt.subplot(gs[2,:])\n",
    "plt.bar((x_bins[:-1] + x_bins[1:]) / 2., n_sig / np.sqrt(n_bkg), width=x_bins[1] - x_bins[0], color='k')\n",
    "plt.ylabel(r'Significance ($S/\\sqrt{B})$', size=9)\n",
    "plt.xlabel('Probability Event is a Signal')\n",
    "\n",
    "plt.tight_layout()\n",
    "plt.savefig('../plots/preds_train.pdf')\n",
    "plt.close(fig)\n",
    "\n",
    "fpr, tpr, thresholds = metrics.roc_curve(df.is_sig.values, df.preds.values, pos_label=1)\n",
    "fig = plt.figure(figsize=(6,6))\n",
    "plt.plot(fpr, tpr)\n",
    "plt.title('XGBClassifier ROC')\n",
    "plt.annotate('Area: ' + str(round(metrics.auc(fpr, tpr), 2)), xy=(.8,.2), xycoords='axes fraction')\n",
    "plt.xlim((0,1))\n",
    "plt.ylim((0,1))\n",
    "plt.plot([0,1], [0,1], linestyle='--')\n",
    "plt.xlabel('False Positive Rate')\n",
    "plt.ylabel('True Positive Rate')\n",
    "\n",
    "plt.savefig('../plots/roc_curve.pdf')\n",
    "plt.close(fig)\n",
    "print(\"Done!\")"
   ]
  },
  {
   "cell_type": "code",
   "execution_count": 29,
   "metadata": {
    "collapsed": false
   },
   "outputs": [
    {
     "name": "stderr",
     "output_type": "stream",
     "text": [
      "100%|██████████| 23/23 [00:19<00:00,  1.13it/s]\n"
     ]
    },
    {
     "ename": "AttributeError",
     "evalue": "'NoneType' object has no attribute 'close'",
     "output_type": "error",
     "traceback": [
      "\u001b[0;31m---------------------------------------------------------------------------\u001b[0m",
      "\u001b[0;31mAttributeError\u001b[0m                            Traceback (most recent call last)",
      "\u001b[0;32m<ipython-input-29-a748233e8fdf>\u001b[0m in \u001b[0;36m<module>\u001b[0;34m()\u001b[0m\n\u001b[1;32m     38\u001b[0m     \u001b[0;31m#pdf.savefig(f)\u001b[0m\u001b[0;34m\u001b[0m\u001b[0;34m\u001b[0m\u001b[0m\n\u001b[1;32m     39\u001b[0m \u001b[0;34m\u001b[0m\u001b[0m\n\u001b[0;32m---> 40\u001b[0;31m \u001b[0mpdf\u001b[0m\u001b[0;34m.\u001b[0m\u001b[0mclose\u001b[0m\u001b[0;34m(\u001b[0m\u001b[0;34m)\u001b[0m\u001b[0;34m\u001b[0m\u001b[0m\n\u001b[0m",
      "\u001b[0;32m/Users/renormalization/Library/Python/2.7/lib/python/site-packages/matplotlib/backends/backend_pdf.pyc\u001b[0m in \u001b[0;36mclose\u001b[0;34m(self)\u001b[0m\n\u001b[1;32m   2440\u001b[0m         \u001b[0mPDF\u001b[0m \u001b[0mfile\u001b[0m\u001b[0;34m.\u001b[0m\u001b[0;34m\u001b[0m\u001b[0m\n\u001b[1;32m   2441\u001b[0m         \"\"\"\n\u001b[0;32m-> 2442\u001b[0;31m         \u001b[0mself\u001b[0m\u001b[0;34m.\u001b[0m\u001b[0m_file\u001b[0m\u001b[0;34m.\u001b[0m\u001b[0mclose\u001b[0m\u001b[0;34m(\u001b[0m\u001b[0;34m)\u001b[0m\u001b[0;34m\u001b[0m\u001b[0m\n\u001b[0m\u001b[1;32m   2443\u001b[0m         if (self.get_pagecount() == 0 and not self.keep_empty and\n\u001b[1;32m   2444\u001b[0m                 not self._file.passed_in_file_object):\n",
      "\u001b[0;31mAttributeError\u001b[0m: 'NoneType' object has no attribute 'close'"
     ]
    },
    {
     "data": {
      "text/plain": [
       "<matplotlib.figure.Figure at 0x115931a90>"
      ]
     },
     "metadata": {},
     "output_type": "display_data"
    },
    {
     "data": {
      "text/plain": [
       "<matplotlib.figure.Figure at 0x11993e690>"
      ]
     },
     "metadata": {},
     "output_type": "display_data"
    },
    {
     "data": {
      "text/plain": [
       "<matplotlib.figure.Figure at 0x11a90ba50>"
      ]
     },
     "metadata": {},
     "output_type": "display_data"
    },
    {
     "data": {
      "text/plain": [
       "<matplotlib.figure.Figure at 0x11ae21890>"
      ]
     },
     "metadata": {},
     "output_type": "display_data"
    },
    {
     "data": {
      "text/plain": [
       "<matplotlib.figure.Figure at 0x119c060d0>"
      ]
     },
     "metadata": {},
     "output_type": "display_data"
    },
    {
     "data": {
      "text/plain": [
       "<matplotlib.figure.Figure at 0x10ff1bad0>"
      ]
     },
     "metadata": {},
     "output_type": "display_data"
    },
    {
     "data": {
      "text/plain": [
       "<matplotlib.figure.Figure at 0x11a45bfd0>"
      ]
     },
     "metadata": {},
     "output_type": "display_data"
    },
    {
     "data": {
      "text/plain": [
       "<matplotlib.figure.Figure at 0x11bf932d0>"
      ]
     },
     "metadata": {},
     "output_type": "display_data"
    },
    {
     "data": {
      "text/plain": [
       "<matplotlib.figure.Figure at 0x11615a250>"
      ]
     },
     "metadata": {},
     "output_type": "display_data"
    },
    {
     "data": {
      "text/plain": [
       "<matplotlib.figure.Figure at 0x116f35cd0>"
      ]
     },
     "metadata": {},
     "output_type": "display_data"
    },
    {
     "data": {
      "text/plain": [
       "<matplotlib.figure.Figure at 0x1170da350>"
      ]
     },
     "metadata": {},
     "output_type": "display_data"
    },
    {
     "data": {
      "text/plain": [
       "<matplotlib.figure.Figure at 0x11c21cfd0>"
      ]
     },
     "metadata": {},
     "output_type": "display_data"
    },
    {
     "data": {
      "text/plain": [
       "<matplotlib.figure.Figure at 0x119167810>"
      ]
     },
     "metadata": {},
     "output_type": "display_data"
    },
    {
     "data": {
      "text/plain": [
       "<matplotlib.figure.Figure at 0x118fcc110>"
      ]
     },
     "metadata": {},
     "output_type": "display_data"
    },
    {
     "data": {
      "text/plain": [
       "<matplotlib.figure.Figure at 0x11a6a73d0>"
      ]
     },
     "metadata": {},
     "output_type": "display_data"
    },
    {
     "data": {
      "text/plain": [
       "<matplotlib.figure.Figure at 0x119e28310>"
      ]
     },
     "metadata": {},
     "output_type": "display_data"
    },
    {
     "data": {
      "text/plain": [
       "<matplotlib.figure.Figure at 0x116ef9dd0>"
      ]
     },
     "metadata": {},
     "output_type": "display_data"
    },
    {
     "data": {
      "text/plain": [
       "<matplotlib.figure.Figure at 0x114ccabd0>"
      ]
     },
     "metadata": {},
     "output_type": "display_data"
    },
    {
     "data": {
      "text/plain": [
       "<matplotlib.figure.Figure at 0x11a111550>"
      ]
     },
     "metadata": {},
     "output_type": "display_data"
    },
    {
     "data": {
      "text/plain": [
       "<matplotlib.figure.Figure at 0x119d52e50>"
      ]
     },
     "metadata": {},
     "output_type": "display_data"
    },
    {
     "data": {
      "text/plain": [
       "<matplotlib.figure.Figure at 0x11384eb90>"
      ]
     },
     "metadata": {},
     "output_type": "display_data"
    },
    {
     "data": {
      "text/plain": [
       "<matplotlib.figure.Figure at 0x1154efc50>"
      ]
     },
     "metadata": {},
     "output_type": "display_data"
    },
    {
     "data": {
      "text/plain": [
       "<matplotlib.figure.Figure at 0x116f35790>"
      ]
     },
     "metadata": {},
     "output_type": "display_data"
    },
    {
     "data": {
      "image/png": "[encoded data removed]",
      "text/plain": [
       "<matplotlib.figure.Figure at 0x113beee10>"
      ]
     },
     "metadata": {},
     "output_type": "display_data"
    }
   ],
   "source": [
    "#pred_variable = 'deep_pred'\n",
    "#pdf = matplotlib.backends.backend_pdf.PdfPages(\"../plots/2D_plots.pdf\")\n",
    "for var in tqdm(x_cols):\n",
    "    if \"_\" not in var:\n",
    "        continue\n",
    "    #print(var)\n",
    "    colors = ['r', 'b']\n",
    "    title  = {0: 'background', 1: 'signal'}\n",
    "    \n",
    "    plt.clf()\n",
    "    f, axes = plt.subplots(1, 2, sharey=True)\n",
    "    for sig in [0, 1]:        \n",
    "        x = df[df['is_sig'] == sig][var]\n",
    "        y = df[df['is_sig'] == sig]['preds']\n",
    "        weight = df[df['is_sig'] == sig]['weight']\n",
    "        \n",
    "        if (\"_m\" in var):\n",
    "            h = axes[sig].hist2d(x, y, bins=[20, 10], range=[[0, 120], [0, 1]])\n",
    "        elif (\"m_3l\" in var):\n",
    "            h = axes[sig].hist2d(x, y, bins=[20, 10], range=[[0, 500], [0, 1]])\n",
    "        elif (\"met_pt\" in var):\n",
    "            h = axes[sig].hist2d(x, y, bins=[20, 10], range=[[0, 400], [0, 1]])\n",
    "        elif (\"met_phi\" in var):\n",
    "            h = axes[sig].hist2d(x, y, bins=[20, 10], range=[[0, 400], [-np.pi, np.pi]])\n",
    "        elif (\"pt\" in var):\n",
    "            h = axes[sig].hist2d(x, y, bins=[20, 10], range=[[0, 200], [0, 1]])\n",
    "        elif (\"mt\" in var):\n",
    "            h = axes[sig].hist2d(x, y, bins=[20, 10], range=[[0, 150], [0, 1]])\n",
    "        else:\n",
    "            h = axes[sig].hist2d(x, y, bins=[20, 16], range=[[min(x), max(x)], [0, 1]])\n",
    "        axes[sig].set_ylabel('classifier output')\n",
    "        axes[sig].set_xlabel(var)\n",
    "        axes[sig].set_title(title[sig])\n",
    "    plt.savefig(\"../plots/\" + var + \".pdf\")\n",
    "    #f.colorbar(h[3]) \n",
    "    #plt.show()\n",
    "    #figures.append(f)\n",
    "    #pdf.savefig(f)\n",
    "\n",
    "#pdf.close()\n",
    "print(\"DONE!!!\")"
   ]
  },
  {
   "cell_type": "code",
   "execution_count": 28,
   "metadata": {
    "collapsed": false
   },
   "outputs": [
    {
     "name": "stderr",
     "output_type": "stream",
     "text": [
      "100%|██████████| 60/60 [00:00<00:00, 44376.34it/s]"
     ]
    },
    {
     "name": "stdout",
     "output_type": "stream",
     "text": [
      "runNumber\n",
      "lbNumber\n",
      "eventNumber\n",
      "SFOS\n",
      "Njet\n",
      "Nbjet\n",
      "Nel\n",
      "Nmu\n",
      "j0_m\n",
      "j0_pt\n",
      "j0_eta\n",
      "j0_phi\n",
      "l0_m\n",
      "l0_pt\n",
      "l0_eta\n",
      "l0_phi\n",
      "l0_c\n",
      "l0_isEl\n",
      "l1_m\n",
      "l1_pt\n",
      "l1_eta\n",
      "l1_phi\n",
      "l1_c\n",
      "l1_isEl\n",
      "l2_m\n",
      "l2_pt\n",
      "l2_eta\n",
      "l2_phi\n",
      "l2_c\n",
      "l2_isEl\n",
      "l0_l1_m\n",
      "l0_l1_pt\n",
      "l0_l1_eta\n",
      "l0_l1_phi\n",
      "l0_l1_c\n",
      "l0_l1_isEl\n",
      "l1_l2_m\n",
      "l1_l2_pt\n",
      "l1_l2_eta\n",
      "l1_l2_phi\n",
      "l1_l2_c\n",
      "l1_l2_isEl\n",
      "l2_l0_m\n",
      "l2_l0_pt\n",
      "l2_l0_eta\n",
      "l2_l0_phi\n",
      "l2_l0_c\n",
      "l2_l0_isEl\n",
      "m_3l\n",
      "pt_3l\n",
      "eta_3l\n",
      "phi_3l\n",
      "mt_3l\n",
      "mnew_3l\n",
      "met_pt\n",
      "met_phi\n",
      "weight\n",
      "cl\n",
      "is_sig\n",
      "preds\n"
     ]
    },
    {
     "name": "stderr",
     "output_type": "stream",
     "text": [
      "\n"
     ]
    }
   ],
   "source": [
    "for var in tqdm(df.columns):\n",
    "    print(var)"
   ]
  },
  {
   "cell_type": "code",
   "execution_count": null,
   "metadata": {
    "collapsed": true
   },
   "outputs": [],
   "source": []
  }
 ],
 "metadata": {
  "kernelspec": {
   "display_name": "Python 2",
   "language": "python",
   "name": "python2"
  },
  "language_info": {
   "codemirror_mode": {
    "name": "ipython",
    "version": 2
   },
   "file_extension": ".py",
   "mimetype": "text/x-python",
   "name": "python",
   "nbconvert_exporter": "python",
   "pygments_lexer": "ipython2",
   "version": "2.7.10"
  }
 },
 "nbformat": 4,
 "nbformat_minor": 0
}
