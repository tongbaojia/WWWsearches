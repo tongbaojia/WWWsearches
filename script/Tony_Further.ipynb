{
 "cells": [
  {
   "cell_type": "markdown",
   "metadata": {},
   "source": [
    "# Machine Learning Tests on WWW"
   ]
  },
  {
   "cell_type": "markdown",
   "metadata": {},
   "source": [
    "## Basic imports, setups"
   ]
  },
  {
   "cell_type": "code",
   "execution_count": 1,
   "metadata": {},
   "outputs": [
    {
     "name": "stdout",
     "output_type": "stream",
     "text": [
      "Have a great day!\n",
      "import sklearn\n"
     ]
    },
    {
     "name": "stderr",
     "output_type": "stream",
     "text": [
      "/cvmfs/sft.cern.ch/lcg/views/LCG_91python3/x86_64-slc6-gcc62-opt/lib/python3.5/site-packages/sklearn/cross_validation.py:44: DeprecationWarning: This module was deprecated in version 0.18 in favor of the model_selection module into which all the refactored classes and functions are moved. Also note that the interface of the new CV iterators are different from that of this module. This module will be removed in 0.20.\n",
      "  \"This module will be removed in 0.20.\", DeprecationWarning)\n",
      "/cvmfs/sft.cern.ch/lcg/views/LCG_91python3/x86_64-slc6-gcc62-opt/lib/python3.5/site-packages/sklearn/grid_search.py:43: DeprecationWarning: This module was deprecated in version 0.18 in favor of the model_selection module into which all the refactored classes and functions are moved. This module will be removed in 0.20.\n",
      "  DeprecationWarning)\n"
     ]
    },
    {
     "name": "stdout",
     "output_type": "stream",
     "text": [
      "import matplotlib\n"
     ]
    },
    {
     "name": "stderr",
     "output_type": "stream",
     "text": [
      "/cvmfs/sft.cern.ch/lcg/views/LCG_91python3/x86_64-slc6-gcc62-opt/lib/python3.5/site-packages/matplotlib/font_manager.py:273: UserWarning: Matplotlib is building the font cache using fc-list. This may take a moment.\n",
      "  warnings.warn('Matplotlib is building the font cache using fc-list. This may take a moment.')\n",
      "/cvmfs/sft.cern.ch/lcg/views/LCG_91python3/x86_64-slc6-gcc62-opt/lib/python3.5/site-packages/matplotlib/font_manager.py:273: UserWarning: Matplotlib is building the font cache using fc-list. This may take a moment.\n",
      "  warnings.warn('Matplotlib is building the font cache using fc-list. This may take a moment.')\n"
     ]
    },
    {
     "name": "stdout",
     "output_type": "stream",
     "text": [
      "import torch\n",
      "import xgboost\n",
      "import ROOT + others\n",
      "Welcome to JupyROOT 6.10/06\n",
      "Fix random number generators\n",
      "--- 21.97 seconds ---\n"
     ]
    }
   ],
   "source": [
    "print(\"Have a great day!\")\n",
    "import os, time, sys\n",
    "start_time = time.time()\n",
    "import pandas as pd\n",
    "import numpy as np\n",
    "from itertools import accumulate\n",
    "print(\"import sklearn\")\n",
    "from sklearn import metrics\n",
    "from sklearn.preprocessing import StandardScaler, LabelBinarizer, scale\n",
    "from sklearn.pipeline import Pipeline\n",
    "from sklearn.utils import shuffle\n",
    "from sklearn.externals import joblib\n",
    "from sklearn.model_selection import RandomizedSearchCV\n",
    "from sklearn.grid_search import GridSearchCV\n",
    "from sklearn.model_selection import train_test_split\n",
    "print(\"import matplotlib\")\n",
    "import matplotlib as mpl\n",
    "import matplotlib.pyplot as plt\n",
    "import matplotlib.gridspec as gridspec\n",
    "import matplotlib.patches as mpatches\n",
    "from matplotlib.colors import LogNorm\n",
    "%matplotlib inline\n",
    "print(\"import torch\")\n",
    "import torch\n",
    "import torch.nn as nn\n",
    "import torch.nn.functional as F\n",
    "from torch.autograd import Variable\n",
    "from torch.utils.data import Dataset, DataLoader\n",
    "print(\"import xgboost\")\n",
    "from tqdm import tqdm\n",
    "from xgboost import XGBClassifier\n",
    "import xgboost as xgb\n",
    "print(\"import ROOT + others\")\n",
    "import ROOT\n",
    "print(\"Fix random number generators\")\n",
    "np.random.seed(24)\n",
    "torch.manual_seed(24)\n",
    "print(\"--- %.2f seconds ---\" % (time.time() - start_time))"
   ]
  },
  {
   "cell_type": "markdown",
   "metadata": {},
   "source": [
    "## Data and import"
   ]
  },
  {
   "cell_type": "code",
   "execution_count": 2,
   "metadata": {},
   "outputs": [
    {
     "name": "stdout",
     "output_type": "stream",
     "text": [
      "adding ../data/bkg_WZlvll.csv\n",
      "adding ../data/bkg_WZqqll.csv\n",
      "adding ../data/bkg_Wtll.csv\n",
      "adding ../data/bkg_Wtllat.csv\n",
      "adding ../data/bkg_ZZllll.csv\n",
      "adding ../data/bkg_ZZqqll.csv\n",
      "adding ../data/bkg_ZZvvll.csv\n",
      "adding ../data/bkg_stl.csv\n",
      "adding ../data/bkg_stlat.csv\n",
      "adding ../data/bkg_ttW0.csv\n",
      "adding ../data/bkg_ttW1.csv\n",
      "adding ../data/bkg_ttW2.csv\n",
      "adding ../data/bkg_ttZ0.csv\n",
      "adding ../data/bkg_ttZ1.csv\n",
      "adding ../data/bkg_ttll.csv\n",
      "adding ../data/signal_WmWpWm.csv\n",
      "adding ../data/signal_WpWpWm.csv\n",
      "done merging data\n"
     ]
    }
   ],
   "source": [
    "def get_data(data_dir):\n",
    "    fs = [data_dir + f for f in os.listdir(data_dir) if ('signal' in f or 'bkg' in f) and f[0] != '.']\n",
    "    df = pd.DataFrame()\n",
    "    for f in fs:\n",
    "        print(\"adding\", f)\n",
    "        new_df = pd.read_csv(f)\n",
    "        df = pd.concat([df, new_df], ignore_index = True)\n",
    "        df.index = range(len(df))\n",
    "    print(\"done merging data\")\n",
    "    return df\n",
    "\n",
    "def add_cl_ix(df):\n",
    "    df['is_sig'] = [1 if 'signal' in val else 0 for val in df.cl.values]\n",
    "    return df\n",
    "\n",
    "data_dir = '../data/' # Modify this\n",
    "df_all = get_data(data_dir)\n",
    "df_all = add_cl_ix(df_all)"
   ]
  },
  {
   "cell_type": "markdown",
   "metadata": {},
   "source": [
    "### Set the explicit flavor; add in fixed cuts"
   ]
  },
  {
   "cell_type": "code",
   "execution_count": 3,
   "metadata": {},
   "outputs": [
    {
     "data": {
      "image/png": "[encoded data removed]",
      "text/plain": [
       "<matplotlib.figure.Figure at 0x7fce3c4a6358>"
      ]
     },
     "metadata": {},
     "output_type": "display_data"
    },
    {
     "name": "stderr",
     "output_type": "stream",
     "text": [
      "/cvmfs/sft.cern.ch/lcg/views/LCG_91python3/x86_64-slc6-gcc62-opt/lib/python3.5/site-packages/pandas/core/indexing.py:476: SettingWithCopyWarning: \n",
      "A value is trying to be set on a copy of a slice from a DataFrame.\n",
      "Try using .loc[row_indexer,col_indexer] = value instead\n",
      "\n",
      "See the caveats in the documentation: http://pandas.pydata.org/pandas-docs/stable/indexing.html#indexing-view-versus-copy\n",
      "  self.obj[item] = s\n"
     ]
    },
    {
     "name": "stdout",
     "output_type": "stream",
     "text": [
      "181473 811690 639247\n",
      "181473 811690 639247\n"
     ]
    }
   ],
   "source": [
    "## copy into 3 different dfs\n",
    "df_0 = df_all.loc[df_all.SFOS == 0, :]\n",
    "df_1 = df_all.loc[df_all.SFOS == 1, :]\n",
    "df_2 = df_all.loc[df_all.SFOS == 2, :]\n",
    "## quick check\n",
    "#print(df_all.head())\n",
    "plt.clf()\n",
    "#print(df_all.loc[abs(df_all.weight) > 20, 'cl'])\n",
    "plt.hist(df_all.loc[abs(df_all.weight) > 1, 'weight'])\n",
    "plt.show()\n",
    "##quick clean\n",
    "df_0.loc[abs(df_0.weight) > 10, 'weight'] = 0\n",
    "df_1.loc[abs(df_1.weight) > 10, 'weight'] = 0\n",
    "df_2.loc[abs(df_2.weight) > 10, 'weight'] = 0\n",
    "print(df_0.shape[0], df_1.shape[0], df_2.shape[0])\n",
    "##add fixed cuts\n",
    "#df_0 = df_0.query('Nbjet < 1')\n",
    "#df_1 = df_1.query('Nbjet < 1')\n",
    "#df_2 = df_2.query('Nbjet < 1')\n",
    "#df_0 = df_0.query('Njet < 2')\n",
    "#df_1 = df_1.query('Njet < 2')\n",
    "#df_2 = df_2.query('Njet < 2')\n",
    "##split training and testing\n",
    "df_0_tr, df_0_te = train_test_split(df_0, test_size=0.2)\n",
    "df_1_tr, df_1_te = train_test_split(df_1, test_size=0.2)\n",
    "df_2_tr, df_2_te = train_test_split(df_2, test_size=0.2)\n",
    "print(df_0.shape[0], df_1.shape[0], df_2.shape[0])"
   ]
  },
  {
   "cell_type": "code",
   "execution_count": 4,
   "metadata": {
    "collapsed": true
   },
   "outputs": [],
   "source": [
    "## Feature columns\n",
    "## Need feature engineering -- add lepton transverse mass, and the extra lepton info\n",
    "\n",
    "x_cols = ['l0_pt', 'l1_pt', 'l2_pt', \n",
    "          'l0_l1_m', 'l0_l1_pt', 'l0_l1_c', 'l0_l1_isEl', \n",
    "          'l1_l2_m', 'l1_l2_pt', 'l1_l2_c', 'l1_l2_isEl', \n",
    "          'l2_l0_m', 'l2_l0_pt', 'l2_l0_c', 'l2_l0_isEl', \n",
    "          'm_3l', 'pt_3l', 'mt_3l', 'mnew_3l', 'met_pt', 'met_phi', 'Njet'\n",
    "         ]\n",
    "\n",
    "x_cols_new = [\"l0_m\",\"l0_pt\",\"l0_eta\",\"l0_phi\", \"l0_isEl\", \"l0_c\",\n",
    "              \"l1_m\",\"l1_pt\",\"l1_eta\",\"l1_phi\", \"l1_isEl\", \"l1_c\",\n",
    "              \"l2_m\",\"l2_pt\",\"l2_eta\",\"l2_phi\", \"l2_isEl\", \"l2_c\",\n",
    "              \"pt_3l\",\"mt_3l\", \"mnew_3l\", \n",
    "              \"met_pt\", \"met_phi\", \n",
    "              \"Nmu\", \"Nel\", \"j0_pt\",\n",
    "             ]\n",
    "#print(x_cols, x_cols_new, df.columns)"
   ]
  },
  {
   "cell_type": "code",
   "execution_count": 70,
   "metadata": {
    "collapsed": true
   },
   "outputs": [],
   "source": [
    "# def train(df, x_cols):\n",
    "#     y_col = 'is_sig'\n",
    "#     ##learning_rate: Analogous to learning rate in GBM\n",
    "#     ##min_child_weight: min sum of weights of all obs required in a child. Used to control over-fitting. \n",
    "#     ##max_depth: Used to control over-fitting\n",
    "#     ##max_leaf_nodes: Can be defined in place of max_depth.\n",
    "#     ##gamma: Gamma specifies the minimum loss reduction required to make a split.\n",
    "#     ##subsample: Lower values make the algorithm\n",
    "#     ##reg_lambda: L2 regularization term on weights (analogous to Ridge regression)\n",
    "#     ##reg_alpha: L1 regularization term on weight (analogous to Lasso regression)\n",
    "#     model = XGBClassifier(nthread=-1, gamma=0.001, learning_rate=0.1, reg_alpha=0.5)\n",
    "#     print('training...')\n",
    "#     model.fit(df[x_cols].values, df[y_col].values, eval_metric=\"auc\")\n",
    "#     #model.fit(df[x_cols].values, df[y_col].values, sample_weight = df.weight.values)\n",
    "#     #df['preds'] = model.predict_proba(df[x_cols].values)[:,1]\n",
    "#     print('done training')\n",
    "#     return df, model\n",
    "# df_1, model = train(df_1, x_cols)"
   ]
  },
  {
   "cell_type": "code",
   "execution_count": 71,
   "metadata": {
    "collapsed": true
   },
   "outputs": [],
   "source": [
    "## A new more systematic approach\n",
    "def modelfit(alg, dtrain, predictors, useTrainCV=True, param_grid={}, cv_folds=5, early_stopping_rounds=50):\n",
    "#https://www.analyticsvidhya.com/blog/2016/03/complete-guide-parameter-tuning-xgboost-with-codes-python/\n",
    "#https://www.dataiku.com/learn/guide/code/python/advanced-xgboost-tuning.html    \n",
    "\n",
    "    if useTrainCV:\n",
    "#         xgb_param = alg.get_xgb_params()\n",
    "#         xgtrain = xgb.DMatrix(dtrain[predictors].values, label=dtrain[\"is_sig\"].values)\n",
    "#         cvresult = xgb.cv(xgb_param, xgtrain, num_boost_round=alg.get_params()['n_estimators'], nfold=cv_folds,\n",
    "#             metrics='auc', early_stopping_rounds=early_stopping_rounds)\n",
    "#         alg.set_params(n_estimators=cvresult.shape[0])\n",
    "        \n",
    "        ##Randomized Search CV\n",
    "        random_search = RandomizedSearchCV(alg, param_grid, n_iter=10, cv=3, refit=True, verbose=2, n_jobs=4)\n",
    "        random_search.fit(dtrain[predictors], dtrain[\"is_sig\"])\n",
    "        report(random_search.cv_results_)\n",
    "        \n",
    "        ##Grid search CV\n",
    "        #gsearch1 = GridSearchCV(estimator = alg, param_grid = param_grid, scoring='roc_auc',n_jobs=4, iid=False, cv=5)\n",
    "        #gsearch1.fit(dtrain[predictors], dtrain[\"is_sig\"], eval_metric=\"auc\", early_stopping_rounds=30)\n",
    "        #print(gsearch1.grid_scores_, gsearch1.best_params_, gsearch1.best_score_)\n",
    "    else:\n",
    "        #Fit the algorithm on the data\n",
    "        alg.fit(dtrain[predictors], dtrain[\"is_sig\"])\n",
    "    \n",
    "    #Predict training set:\n",
    "    dtrain_predictions = alg.predict(dtrain[predictors])\n",
    "    dtrain_predprob = alg.predict_proba(dtrain[predictors])[:,1]\n",
    "        \n",
    "    #Print model report:\n",
    "    print(\"\\nModel Report\")\n",
    "    print(\"Accuracy : %.4g\" % metrics.accuracy_score(dtrain[\"is_sig\"].values, dtrain_predictions))\n",
    "    print(\"AUC Score (Train): %f\" % metrics.roc_auc_score(dtrain[\"is_sig\"], dtrain_predprob))\n",
    "    \n",
    "    return True\n",
    "\n",
    "    \n",
    "def training(df, features, name=\"xgb_temp\", optimize=False):\n",
    "    \n",
    "    param_grid = {\n",
    "            'learning_rate': [.05, .3], \n",
    "            'max_depth': range(3, 9, 1), \n",
    "            #'gamma' : [0.01, .1], \n",
    "            #'subsample': [.5, .9], \n",
    "            #'colsample_bytree': [.5, .9]\n",
    "    }\n",
    "    \n",
    "    xgb_temp = XGBClassifier(\n",
    "        learning_rate = 0.1,\n",
    "        max_depth = 5,\n",
    "        min_child_weight=1,\n",
    "        objective= 'binary:logistic',\n",
    "        nthread=-1,\n",
    "        scale_pos_weight=1,\n",
    "        seed=24)\n",
    "    \n",
    "    if optimize:\n",
    "        modelfit(xgb_temp, df, features, param_grid=param_grid)\n",
    "        joblib.dump(param_grid.best_estimator_, name + \".parlib.dat\")\n",
    "    else:\n",
    "        modelfit(xgb_temp, df, features, useTrainCV=False)\n",
    "    \n",
    "    ##save model\n",
    "    joblib.dump(xgb_temp, name + \".joblib.dat\")\n",
    "    ##load model\n",
    "    ##loaded_model = joblib.load(\"pima.joblib.dat\")\n",
    "    \n",
    "    plt.clf()\n",
    "    fig = plt.figure(figsize=(10,6))\n",
    "    feat_imp = pd.Series(xgb_temp.booster().get_fscore()).sort_values(ascending=False)\n",
    "    feat_imp.plot(kind='bar', title='Feature Importances')\n",
    "    plt.ylabel('Feature Importance Score')\n",
    "    plt.savefig('../plots/feature_ranking_' + name + '.pdf')\n",
    "\n",
    "    return xgb_temp"
   ]
  },
  {
   "cell_type": "code",
   "execution_count": 72,
   "metadata": {},
   "outputs": [
    {
     "name": "stdout",
     "output_type": "stream",
     "text": [
      "\n",
      "Model Report\n",
      "Accuracy : 0.8357\n",
      "AUC Score (Train): 0.867787\n",
      "\n",
      "Model Report\n",
      "Accuracy : 0.8531\n",
      "AUC Score (Train): 0.913528\n",
      "\n",
      "Model Report\n",
      "Accuracy : 0.8896\n",
      "AUC Score (Train): 0.908481\n"
     ]
    },
    {
     "data": {
      "text/plain": [
       "<matplotlib.figure.Figure at 0x7f2a576de6d8>"
      ]
     },
     "metadata": {},
     "output_type": "display_data"
    },
    {
     "data": {
      "text/plain": [
       "<matplotlib.figure.Figure at 0x7f2a76019358>"
      ]
     },
     "metadata": {},
     "output_type": "display_data"
    },
    {
     "data": {
      "text/plain": [
       "<matplotlib.figure.Figure at 0x7f2a75ff7b70>"
      ]
     },
     "metadata": {},
     "output_type": "display_data"
    },
    {
     "data": {
      "image/png": "[encoded data removed]",
      "text/plain": [
       "<matplotlib.figure.Figure at 0x7f2a7582dfd0>"
      ]
     },
     "metadata": {},
     "output_type": "display_data"
    }
   ],
   "source": [
    "xgb_0 = training(df_0_tr, x_cols, name=\"xgb_0\")\n",
    "xgb_1 = training(df_1_tr, x_cols, name=\"xgb_1\")\n",
    "xgb_2 = training(df_2_tr, x_cols, name=\"xgb_2\")"
   ]
  },
  {
   "cell_type": "markdown",
   "metadata": {},
   "source": [
    "## Check output performance"
   ]
  },
  {
   "cell_type": "code",
   "execution_count": 73,
   "metadata": {
    "collapsed": true
   },
   "outputs": [],
   "source": [
    "#model = xgb1\n",
    "df_0['preds'] = xgb_0.predict_proba(df_0[x_cols])[:,1]\n",
    "df_1['preds'] = xgb_1.predict_proba(df_1[x_cols])[:,1]\n",
    "df_2['preds'] = xgb_2.predict_proba(df_2[x_cols])[:,1]"
   ]
  },
  {
   "cell_type": "code",
   "execution_count": 74,
   "metadata": {
    "collapsed": true
   },
   "outputs": [],
   "source": [
    "def significance(S, B):\n",
    "    #return S/np.sqrt(B)\n",
    "    return np.sqrt(2 * ((S + B) * np.log(1 + S / B) - S))\n",
    "\n",
    "def check_MLoutput(df, prename=\"\"):\n",
    "    plt.clf()\n",
    "    x_bins = np.linspace(0, max(df.preds), 60)\n",
    "    fig = plt.figure(figsize=(10,6))\n",
    "    gs = gridspec.GridSpec(3, 1)\n",
    "    ax = plt.subplot(gs[0,:])\n",
    "    plt.title('XGBClassifier Separability')\n",
    "    n_bkg,bins,paint = plt.hist(df[df.is_sig == 0].preds, bins=x_bins, weights=df[df.is_sig == 0].weight, color='r')\n",
    "    plt.yscale('log')\n",
    "    plt.ylabel(r'Weighted Background Counts', size=9)\n",
    "    plt.legend(handles=[mpatches.Patch(color='red', label='Background')])\n",
    "    ax1 = plt.subplot(gs[1,:])\n",
    "    n_sig,bins,paint = plt.hist(df[df.is_sig == 1].preds, bins=x_bins, weights=df[df.is_sig == 1].weight, color='g')\n",
    "    #plt.yscale('log')\n",
    "    plt.ylabel(r'Weighted Signal Counts', size=9)\n",
    "    plt.legend(handles=[mpatches.Patch(color='green', label='Signal')])\n",
    "    ax2 = plt.subplot(gs[2,:])\n",
    "    plt.bar(x_bins[:-1], significance(n_sig, n_bkg), width=x_bins[1] - x_bins[0], color='k')\n",
    "    plt.ylabel(r'Significance', size=9)\n",
    "    plt.xlabel('XGBoost output')\n",
    "    #print(n_bkg, n_sig, significance(n_sig, n_bkg))\n",
    "    n_bkg_sum = np.array(list(accumulate(reversed(n_bkg))))\n",
    "    n_sig_sum = np.array(list(accumulate(reversed(n_sig))))\n",
    "    sig_sum = significance(n_sig_sum, n_bkg_sum)\n",
    "    #print(sig_sum)\n",
    "    print(\"cut: %.2g; max sig : %.4g; Nsig : %.3g; Nbkg : %.3g\" % \n",
    "          (x_bins[-np.argmax(sig_sum) - 1], sig_sum[np.argmax(sig_sum)], n_sig_sum[np.argmax(sig_sum)], n_bkg_sum[np.argmax(sig_sum)]))\n",
    "\n",
    "    plt.tight_layout()\n",
    "    #plt.show()\n",
    "    plt.savefig('../plots/' + prename + 'preds_train.pdf')\n",
    "\n",
    "    fpr, tpr, thresholds = metrics.roc_curve(df.is_sig.values, df.preds.values, pos_label=1)\n",
    "    fig = plt.figure(figsize=(6,6))\n",
    "    plt.plot(fpr, tpr)\n",
    "    plt.title('XGBClassifier ROC')\n",
    "    plt.annotate('Area: ' + str(round(metrics.auc(fpr, tpr), 2)), xy=(.8,.2), xycoords='axes fraction')\n",
    "    plt.xlim((0,1))\n",
    "    plt.ylim((0,1))\n",
    "    plt.plot([0,1], [0,1], linestyle='--')\n",
    "    plt.xlabel('Bkg misidentification rate')\n",
    "    plt.ylabel('Signal efficiency')\n",
    "    #plt.show()\n",
    "    plt.savefig('../plots/' + prename + 'roc_curve.pdf')\n",
    "    print(\"Done!\")"
   ]
  },
  {
   "cell_type": "code",
   "execution_count": 75,
   "metadata": {},
   "outputs": [
    {
     "name": "stdout",
     "output_type": "stream",
     "text": [
      "cut: 0.96; max sig : 0.7907; Nsig : 2.93; Nbkg : 12.8\n",
      "Done!\n"
     ]
    },
    {
     "data": {
      "text/plain": [
       "<matplotlib.figure.Figure at 0x7f2a7240f898>"
      ]
     },
     "metadata": {},
     "output_type": "display_data"
    },
    {
     "data": {
      "image/png": "[encoded data removed]",
      "text/plain": [
       "<matplotlib.figure.Figure at 0x7f2a7240f780>"
      ]
     },
     "metadata": {},
     "output_type": "display_data"
    },
    {
     "data": {
      "image/png": "[encoded data removed]",
      "text/plain": [
       "<matplotlib.figure.Figure at 0x7f2a984937b8>"
      ]
     },
     "metadata": {},
     "output_type": "display_data"
    }
   ],
   "source": [
    "check_MLoutput(df_0, prename=\"SFOS0\")"
   ]
  },
  {
   "cell_type": "code",
   "execution_count": 76,
   "metadata": {},
   "outputs": [
    {
     "name": "stdout",
     "output_type": "stream",
     "text": [
      "cut: 0.68; max sig : 0.5355; Nsig : 10.8; Nbkg : 401\n",
      "Done!\n"
     ]
    },
    {
     "data": {
      "text/plain": [
       "<matplotlib.figure.Figure at 0x7f2a72901080>"
      ]
     },
     "metadata": {},
     "output_type": "display_data"
    },
    {
     "data": {
      "image/png": "[encoded data removed]",
      "text/plain": [
       "<matplotlib.figure.Figure at 0x7f2a729011d0>"
      ]
     },
     "metadata": {},
     "output_type": "display_data"
    },
    {
     "data": {
      "image/png": "[encoded data removed]",
      "text/plain": [
       "<matplotlib.figure.Figure at 0x7f2a7603edd8>"
      ]
     },
     "metadata": {},
     "output_type": "display_data"
    }
   ],
   "source": [
    "check_MLoutput(df_1, prename=\"SFOS1\")"
   ]
  },
  {
   "cell_type": "code",
   "execution_count": 77,
   "metadata": {},
   "outputs": [
    {
     "name": "stdout",
     "output_type": "stream",
     "text": [
      "cut: 0.57; max sig : 0.3203; Nsig : 4.86; Nbkg : 229\n",
      "Done!\n"
     ]
    },
    {
     "data": {
      "text/plain": [
       "<matplotlib.figure.Figure at 0x7f2a987ae198>"
      ]
     },
     "metadata": {},
     "output_type": "display_data"
    },
    {
     "data": {
      "image/png": "[encoded data removed]",
      "text/plain": [
       "<matplotlib.figure.Figure at 0x7f2a7228ea90>"
      ]
     },
     "metadata": {},
     "output_type": "display_data"
    },
    {
     "data": {
      "image/png": "[encoded data removed]",
      "text/plain": [
       "<matplotlib.figure.Figure at 0x7f2a9b459748>"
      ]
     },
     "metadata": {},
     "output_type": "display_data"
    }
   ],
   "source": [
    "check_MLoutput(df_2, prename=\"SFOS2\")"
   ]
  },
  {
   "cell_type": "code",
   "execution_count": 33,
   "metadata": {
    "collapsed": true
   },
   "outputs": [],
   "source": [
    "def interpret_MLoutput(df, prename=\"\"):\n",
    "    for var in tqdm(x_cols):\n",
    "#         if \"_\" not in var:\n",
    "#             continue\n",
    "        if \"l2_pt\" in var:\n",
    "            continue\n",
    "        #print(var)\n",
    "        colors = ['r', 'b']\n",
    "        title  = {0: 'background', 1: 'signal'}\n",
    "\n",
    "        plt.clf()\n",
    "        f, axes = plt.subplots(1, 2, sharey=True)\n",
    "        for sig in [0, 1]:        \n",
    "            x = df[df['is_sig'] == sig][var]\n",
    "            y = df[df['is_sig'] == sig]['preds']\n",
    "            weight = df[df['is_sig'] == sig]['weight']\n",
    "            #print(\"fill\")\n",
    "            if (\"_m\" in var):\n",
    "                h = axes[sig].hist2d(x, y, bins=[20, 10], range=[[0, 120], [0, 1]])\n",
    "            elif (\"m_3l\" in var):\n",
    "                h = axes[sig].hist2d(x, y, bins=[20, 10], range=[[0, 500], [0, 1]])\n",
    "            elif (\"met_pt\" in var):\n",
    "                h = axes[sig].hist2d(x, y, bins=[20, 10], range=[[0, 400], [0, 1]])\n",
    "            elif (\"met_phi\" in var):\n",
    "                h = axes[sig].hist2d(x, y, bins=[20, 10], range=[[-np.pi, np.pi], [0, 1]])\n",
    "            elif (\"pt\" in var):\n",
    "                h = axes[sig].hist2d(x, y, bins=[20, 10], range=[[0, 200], [0, 1]])\n",
    "            elif (\"mt\" in var):\n",
    "                h = axes[sig].hist2d(x, y, bins=[20, 10], range=[[0, 150], [0, 1]])\n",
    "            else:\n",
    "                h = axes[sig].hist2d(x, y, bins=[20, 16], range=[[min(x), max(x)], [0, 1]])\n",
    "            axes[sig].set_ylabel('classifier output')\n",
    "            axes[sig].set_xlabel(str(var))\n",
    "            axes[sig].set_title(title[sig])\n",
    "        plt.savefig(\"../plots/\" + prename + str(var) + \".pdf\")"
   ]
  },
  {
   "cell_type": "code",
   "execution_count": 35,
   "metadata": {},
   "outputs": [
    {
     "name": "stderr",
     "output_type": "stream",
     "text": [
      " 91%|█████████▏| 21/23 [00:13<00:01,  1.54it/s]/cvmfs/sft.cern.ch/lcg/views/LCG_91python3/x86_64-slc6-gcc62-opt/lib/python3.5/site-packages/matplotlib/pyplot.py:516: RuntimeWarning: More than 20 figures have been opened. Figures created through the pyplot interface (`matplotlib.pyplot.figure`) are retained until explicitly closed and may consume too much memory. (To control this warning, see the rcParam `figure.max_open_warning`).\n",
      "  max_open_warning, RuntimeWarning)\n",
      "100%|██████████| 23/23 [00:14<00:00,  1.54it/s]\n",
      "100%|██████████| 23/23 [00:23<00:00,  1.03s/it]\n",
      "100%|██████████| 23/23 [00:24<00:00,  1.06s/it]\n"
     ]
    },
    {
     "data": {
      "text/plain": [
       "<matplotlib.figure.Figure at 0x7f2aa0a5e128>"
      ]
     },
     "metadata": {},
     "output_type": "display_data"
    },
    {
     "data": {
      "text/plain": [
       "<matplotlib.figure.Figure at 0x7f2a6543d438>"
      ]
     },
     "metadata": {},
     "output_type": "display_data"
    },
    {
     "data": {
      "text/plain": [
       "<matplotlib.figure.Figure at 0x7f2a653d0710>"
      ]
     },
     "metadata": {},
     "output_type": "display_data"
    },
    {
     "data": {
      "text/plain": [
       "<matplotlib.figure.Figure at 0x7f2a656ee940>"
      ]
     },
     "metadata": {},
     "output_type": "display_data"
    },
    {
     "data": {
      "text/plain": [
       "<matplotlib.figure.Figure at 0x7f2aa15e7eb8>"
      ]
     },
     "metadata": {},
     "output_type": "display_data"
    },
    {
     "data": {
      "text/plain": [
       "<matplotlib.figure.Figure at 0x7f2aa26bf6d8>"
      ]
     },
     "metadata": {},
     "output_type": "display_data"
    },
    {
     "data": {
      "text/plain": [
       "<matplotlib.figure.Figure at 0x7f2a65696048>"
      ]
     },
     "metadata": {},
     "output_type": "display_data"
    },
    {
     "data": {
      "text/plain": [
       "<matplotlib.figure.Figure at 0x7f2aa0a6f320>"
      ]
     },
     "metadata": {},
     "output_type": "display_data"
    },
    {
     "data": {
      "text/plain": [
       "<matplotlib.figure.Figure at 0x7f2a656b9c18>"
      ]
     },
     "metadata": {},
     "output_type": "display_data"
    },
    {
     "data": {
      "text/plain": [
       "<matplotlib.figure.Figure at 0x7f2a65466a20>"
      ]
     },
     "metadata": {},
     "output_type": "display_data"
    },
    {
     "data": {
      "text/plain": [
       "<matplotlib.figure.Figure at 0x7f2a658c4240>"
      ]
     },
     "metadata": {},
     "output_type": "display_data"
    },
    {
     "data": {
      "text/plain": [
       "<matplotlib.figure.Figure at 0x7f2a658403c8>"
      ]
     },
     "metadata": {},
     "output_type": "display_data"
    },
    {
     "data": {
      "text/plain": [
       "<matplotlib.figure.Figure at 0x7f2a65864128>"
      ]
     },
     "metadata": {},
     "output_type": "display_data"
    },
    {
     "data": {
      "text/plain": [
       "<matplotlib.figure.Figure at 0x7f2aa0d5b0f0>"
      ]
     },
     "metadata": {},
     "output_type": "display_data"
    },
    {
     "data": {
      "text/plain": [
       "<matplotlib.figure.Figure at 0x7f2a65875240>"
      ]
     },
     "metadata": {},
     "output_type": "display_data"
    },
    {
     "data": {
      "text/plain": [
       "<matplotlib.figure.Figure at 0x7f2aa0ac2400>"
      ]
     },
     "metadata": {},
     "output_type": "display_data"
    },
    {
     "data": {
      "text/plain": [
       "<matplotlib.figure.Figure at 0x7f2aa09c8160>"
      ]
     },
     "metadata": {},
     "output_type": "display_data"
    },
    {
     "data": {
      "text/plain": [
       "<matplotlib.figure.Figure at 0x7f2aa0b174e0>"
      ]
     },
     "metadata": {},
     "output_type": "display_data"
    },
    {
     "data": {
      "text/plain": [
       "<matplotlib.figure.Figure at 0x7f2a65551f98>"
      ]
     },
     "metadata": {},
     "output_type": "display_data"
    },
    {
     "data": {
      "text/plain": [
       "<matplotlib.figure.Figure at 0x7f2aa0d554e0>"
      ]
     },
     "metadata": {},
     "output_type": "display_data"
    },
    {
     "data": {
      "text/plain": [
       "<matplotlib.figure.Figure at 0x7f2a653e0588>"
      ]
     },
     "metadata": {},
     "output_type": "display_data"
    },
    {
     "data": {
      "text/plain": [
       "<matplotlib.figure.Figure at 0x7f2a65893470>"
      ]
     },
     "metadata": {},
     "output_type": "display_data"
    },
    {
     "data": {
      "text/plain": [
       "<matplotlib.figure.Figure at 0x7f2a653aa9b0>"
      ]
     },
     "metadata": {},
     "output_type": "display_data"
    },
    {
     "data": {
      "text/plain": [
       "<matplotlib.figure.Figure at 0x7f2a655bdda0>"
      ]
     },
     "metadata": {},
     "output_type": "display_data"
    },
    {
     "data": {
      "text/plain": [
       "<matplotlib.figure.Figure at 0x7f2a65432cc0>"
      ]
     },
     "metadata": {},
     "output_type": "display_data"
    },
    {
     "data": {
      "text/plain": [
       "<matplotlib.figure.Figure at 0x7f2a65863c18>"
      ]
     },
     "metadata": {},
     "output_type": "display_data"
    },
    {
     "data": {
      "text/plain": [
       "<matplotlib.figure.Figure at 0x7f2a65463eb8>"
      ]
     },
     "metadata": {},
     "output_type": "display_data"
    },
    {
     "data": {
      "text/plain": [
       "<matplotlib.figure.Figure at 0x7f2aa15e4dd8>"
      ]
     },
     "metadata": {},
     "output_type": "display_data"
    },
    {
     "data": {
      "text/plain": [
       "<matplotlib.figure.Figure at 0x7f2a6565be48>"
      ]
     },
     "metadata": {},
     "output_type": "display_data"
    },
    {
     "data": {
      "text/plain": [
       "<matplotlib.figure.Figure at 0x7f2a656a4160>"
      ]
     },
     "metadata": {},
     "output_type": "display_data"
    },
    {
     "data": {
      "text/plain": [
       "<matplotlib.figure.Figure at 0x7f2a6547f780>"
      ]
     },
     "metadata": {},
     "output_type": "display_data"
    },
    {
     "data": {
      "text/plain": [
       "<matplotlib.figure.Figure at 0x7f2a65633c18>"
      ]
     },
     "metadata": {},
     "output_type": "display_data"
    },
    {
     "data": {
      "text/plain": [
       "<matplotlib.figure.Figure at 0x7f2a656eea90>"
      ]
     },
     "metadata": {},
     "output_type": "display_data"
    },
    {
     "data": {
      "text/plain": [
       "<matplotlib.figure.Figure at 0x7f2aa26beb70>"
      ]
     },
     "metadata": {},
     "output_type": "display_data"
    },
    {
     "data": {
      "text/plain": [
       "<matplotlib.figure.Figure at 0x7f2a657e43c8>"
      ]
     },
     "metadata": {},
     "output_type": "display_data"
    },
    {
     "data": {
      "text/plain": [
       "<matplotlib.figure.Figure at 0x7f2a656c4048>"
      ]
     },
     "metadata": {},
     "output_type": "display_data"
    },
    {
     "data": {
      "text/plain": [
       "<matplotlib.figure.Figure at 0x7f2a653b64a8>"
      ]
     },
     "metadata": {},
     "output_type": "display_data"
    },
    {
     "data": {
      "text/plain": [
       "<matplotlib.figure.Figure at 0x7f2aa0ad5fd0>"
      ]
     },
     "metadata": {},
     "output_type": "display_data"
    },
    {
     "data": {
      "text/plain": [
       "<matplotlib.figure.Figure at 0x7f2a65789400>"
      ]
     },
     "metadata": {},
     "output_type": "display_data"
    },
    {
     "data": {
      "text/plain": [
       "<matplotlib.figure.Figure at 0x7f2aa09aff28>"
      ]
     },
     "metadata": {},
     "output_type": "display_data"
    },
    {
     "data": {
      "text/plain": [
       "<matplotlib.figure.Figure at 0x7f2a6565a860>"
      ]
     },
     "metadata": {},
     "output_type": "display_data"
    },
    {
     "data": {
      "text/plain": [
       "<matplotlib.figure.Figure at 0x7f2a6573d710>"
      ]
     },
     "metadata": {},
     "output_type": "display_data"
    },
    {
     "data": {
      "text/plain": [
       "<matplotlib.figure.Figure at 0x7f2a653aaf98>"
      ]
     },
     "metadata": {},
     "output_type": "display_data"
    },
    {
     "data": {
      "text/plain": [
       "<matplotlib.figure.Figure at 0x7f2aa0aee588>"
      ]
     },
     "metadata": {},
     "output_type": "display_data"
    },
    {
     "data": {
      "text/plain": [
       "<matplotlib.figure.Figure at 0x7f2a654a1e10>"
      ]
     },
     "metadata": {},
     "output_type": "display_data"
    },
    {
     "data": {
      "text/plain": [
       "<matplotlib.figure.Figure at 0x7f2a65560b00>"
      ]
     },
     "metadata": {},
     "output_type": "display_data"
    },
    {
     "data": {
      "text/plain": [
       "<matplotlib.figure.Figure at 0x7f2a65888160>"
      ]
     },
     "metadata": {},
     "output_type": "display_data"
    },
    {
     "data": {
      "text/plain": [
       "<matplotlib.figure.Figure at 0x7f2a656d7048>"
      ]
     },
     "metadata": {},
     "output_type": "display_data"
    },
    {
     "data": {
      "text/plain": [
       "<matplotlib.figure.Figure at 0x7f2a6570ce80>"
      ]
     },
     "metadata": {},
     "output_type": "display_data"
    },
    {
     "data": {
      "text/plain": [
       "<matplotlib.figure.Figure at 0x7f2a657276a0>"
      ]
     },
     "metadata": {},
     "output_type": "display_data"
    },
    {
     "data": {
      "text/plain": [
       "<matplotlib.figure.Figure at 0x7f2a65399cf8>"
      ]
     },
     "metadata": {},
     "output_type": "display_data"
    },
    {
     "data": {
      "text/plain": [
       "<matplotlib.figure.Figure at 0x7f2a6548f9b0>"
      ]
     },
     "metadata": {},
     "output_type": "display_data"
    },
    {
     "data": {
      "text/plain": [
       "<matplotlib.figure.Figure at 0x7f2a656907f0>"
      ]
     },
     "metadata": {},
     "output_type": "display_data"
    },
    {
     "data": {
      "text/plain": [
       "<matplotlib.figure.Figure at 0x7f2aa0b0ca90>"
      ]
     },
     "metadata": {},
     "output_type": "display_data"
    },
    {
     "data": {
      "text/plain": [
       "<matplotlib.figure.Figure at 0x7f2aa0ac2198>"
      ]
     },
     "metadata": {},
     "output_type": "display_data"
    },
    {
     "data": {
      "text/plain": [
       "<matplotlib.figure.Figure at 0x7f2aa0aeab70>"
      ]
     },
     "metadata": {},
     "output_type": "display_data"
    },
    {
     "data": {
      "text/plain": [
       "<matplotlib.figure.Figure at 0x7f2a65633860>"
      ]
     },
     "metadata": {},
     "output_type": "display_data"
    },
    {
     "data": {
      "text/plain": [
       "<matplotlib.figure.Figure at 0x7f2a655461d0>"
      ]
     },
     "metadata": {},
     "output_type": "display_data"
    },
    {
     "data": {
      "text/plain": [
       "<matplotlib.figure.Figure at 0x7f2a654926d8>"
      ]
     },
     "metadata": {},
     "output_type": "display_data"
    },
    {
     "data": {
      "text/plain": [
       "<matplotlib.figure.Figure at 0x7f2a65510eb8>"
      ]
     },
     "metadata": {},
     "output_type": "display_data"
    },
    {
     "data": {
      "text/plain": [
       "<matplotlib.figure.Figure at 0x7f2a65514128>"
      ]
     },
     "metadata": {},
     "output_type": "display_data"
    },
    {
     "data": {
      "text/plain": [
       "<matplotlib.figure.Figure at 0x7f2a653c3400>"
      ]
     },
     "metadata": {},
     "output_type": "display_data"
    },
    {
     "data": {
      "text/plain": [
       "<matplotlib.figure.Figure at 0x7f2a653ede48>"
      ]
     },
     "metadata": {},
     "output_type": "display_data"
    },
    {
     "data": {
      "image/png": "[encoded data removed]",
      "text/plain": [
       "<matplotlib.figure.Figure at 0x7f2aa15a8f98>"
      ]
     },
     "metadata": {},
     "output_type": "display_data"
    }
   ],
   "source": [
    "interpret_MLoutput(df_0, prename=\"SFOS0\")\n",
    "interpret_MLoutput(df_1, prename=\"SFOS1\")\n",
    "interpret_MLoutput(df_2, prename=\"SFOS2\")"
   ]
  },
  {
   "cell_type": "code",
   "execution_count": 78,
   "metadata": {},
   "outputs": [
    {
     "data": {
      "text/plain": [
       "1.0071577532839631"
      ]
     },
     "execution_count": 78,
     "metadata": {},
     "output_type": "execute_result"
    }
   ],
   "source": [
    "np.sqrt(0.7907**2 + 0.5355**2 + 0.32**2)"
   ]
  },
  {
   "cell_type": "code",
   "execution_count": 82,
   "metadata": {},
   "outputs": [
    {
     "data": {
      "text/plain": [
       "<matplotlib.axes._subplots.AxesSubplot at 0x7f2a986d1dd8>"
      ]
     },
     "execution_count": 82,
     "metadata": {},
     "output_type": "execute_result"
    },
    {
     "data": {
      "text/plain": [
       "<matplotlib.figure.Figure at 0x7f2a983953c8>"
      ]
     },
     "metadata": {},
     "output_type": "display_data"
    },
    {
     "data": {
      "image/png": "[encoded data removed]",
      "text/plain": [
       "<matplotlib.figure.Figure at 0x7f2a7227b320>"
      ]
     },
     "metadata": {},
     "output_type": "display_data"
    }
   ],
   "source": [
    "plt.clf()\n",
    "fig = plt.figure(figsize=(10,1))\n",
    "gs = gridspec.GridSpec(3, 1)\n",
    "ax = plt.subplot(gs[0,:])\n",
    "df_0.query('preds > 0.95 & is_sig == 0').cl.value_counts().plot(kind='bar')\n",
    "ax = plt.subplot(gs[1,:])\n",
    "df_1.query('preds > 0.9 & is_sig == 0').cl.value_counts().plot(kind='bar')\n",
    "ax = plt.subplot(gs[2,:])\n",
    "df_2.query('preds > 0.9 & is_sig == 0').cl.value_counts().plot(kind='bar')\n",
    "#apply(pd.value_counts).plot(kind='bar', subplots=True)\n",
    "#plt.hist(df_1.query('preds > 0.6').cl)"
   ]
  },
  {
   "cell_type": "code",
   "execution_count": null,
   "metadata": {
    "collapsed": true
   },
   "outputs": [],
   "source": []
  }
 ],
 "metadata": {
  "kernelspec": {
   "display_name": "Python 3",
   "language": "python",
   "name": "python3"
  },
  "language_info": {
   "codemirror_mode": {
    "name": "ipython",
    "version": 3
   },
   "file_extension": ".py",
   "mimetype": "text/x-python",
   "name": "python",
   "nbconvert_exporter": "python",
   "pygments_lexer": "ipython3",
   "version": "3.5.2"
  }
 },
 "nbformat": 4,
 "nbformat_minor": 2
}
